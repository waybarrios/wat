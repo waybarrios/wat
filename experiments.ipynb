{
 "cells": [
  {
   "cell_type": "code",
   "execution_count": 23,
   "metadata": {},
   "outputs": [],
   "source": [
    "import pandas as pd \n",
    "from sklearn import svm\n",
    "import  numpy as np\n",
    "from sklearn.externals import joblib\n",
    "import os.path"
   ]
  },
  {
   "cell_type": "code",
   "execution_count": 24,
   "metadata": {},
   "outputs": [],
   "source": [
    "#Only US so far. \n",
    "states = [\"AL\", \"AK\", \"AZ\", \"AR\", \"CA\", \"CO\", \"CT\", \"DC\", \"DE\", \"FL\", \"GA\", \n",
    "          \"HI\", \"ID\", \"IL\", \"IN\", \"IA\", \"KS\", \"KY\", \"LA\", \"ME\", \"MD\", \n",
    "          \"MA\", \"MI\", \"MN\", \"MS\", \"MO\", \"MT\", \"NE\", \"NV\", \"NH\", \"NJ\", \n",
    "          \"NM\", \"NY\", \"NC\", \"ND\", \"OH\", \"OK\", \"OR\", \"PA\", \"RI\", \"SC\", \n",
    "          \"SD\", \"TN\", \"TX\", \"UT\", \"VT\", \"VA\", \"WA\", \"WV\", \"WI\", \"WY\"]"
   ]
  },
  {
   "cell_type": "code",
   "execution_count": 25,
   "metadata": {},
   "outputs": [],
   "source": [
    "df = pd.read_csv('us-5K_TRAINING.csv',sep=',',encoding='utf-8',header=None)"
   ]
  },
  {
   "cell_type": "code",
   "execution_count": 26,
   "metadata": {},
   "outputs": [
    {
     "data": {
      "text/html": [
       "<div>\n",
       "<style scoped>\n",
       "    .dataframe tbody tr th:only-of-type {\n",
       "        vertical-align: middle;\n",
       "    }\n",
       "\n",
       "    .dataframe tbody tr th {\n",
       "        vertical-align: top;\n",
       "    }\n",
       "\n",
       "    .dataframe thead th {\n",
       "        text-align: right;\n",
       "    }\n",
       "</style>\n",
       "<table border=\"1\" class=\"dataframe\">\n",
       "  <thead>\n",
       "    <tr style=\"text-align: right;\">\n",
       "      <th></th>\n",
       "      <th>0</th>\n",
       "      <th>1</th>\n",
       "      <th>2</th>\n",
       "      <th>3</th>\n",
       "      <th>4</th>\n",
       "      <th>5</th>\n",
       "      <th>6</th>\n",
       "      <th>7</th>\n",
       "      <th>8</th>\n",
       "      <th>9</th>\n",
       "      <th>10</th>\n",
       "      <th>11</th>\n",
       "      <th>12</th>\n",
       "    </tr>\n",
       "  </thead>\n",
       "  <tbody>\n",
       "    <tr>\n",
       "      <th>0</th>\n",
       "      <td>James</td>\n",
       "      <td>Butt</td>\n",
       "      <td>Benton, John B Jr</td>\n",
       "      <td>6649 N Blue Gum St</td>\n",
       "      <td>New Orleans</td>\n",
       "      <td>Orleans</td>\n",
       "      <td>LA</td>\n",
       "      <td>70116</td>\n",
       "      <td>504-621-8927</td>\n",
       "      <td>504-845-1427</td>\n",
       "      <td>jbutt@gmail.com</td>\n",
       "      <td>http://www.bentonjohnbjr.com</td>\n",
       "      <td>True</td>\n",
       "    </tr>\n",
       "    <tr>\n",
       "      <th>1</th>\n",
       "      <td>Jams</td>\n",
       "      <td>Buttj</td>\n",
       "      <td>BentonI, JohnZB Jr</td>\n",
       "      <td>6649 N Blue GPm St</td>\n",
       "      <td>New Orleans</td>\n",
       "      <td>Orleans</td>\n",
       "      <td>LA</td>\n",
       "      <td>70116</td>\n",
       "      <td>504-621-8927</td>\n",
       "      <td>504-845-1427</td>\n",
       "      <td>jbutt@gmail.com</td>\n",
       "      <td>http://www.bentonjohnbjr.com</td>\n",
       "      <td>False</td>\n",
       "    </tr>\n",
       "    <tr>\n",
       "      <th>2</th>\n",
       "      <td>Jams</td>\n",
       "      <td>Buttq</td>\n",
       "      <td>Bentxon, Jocn B Jr</td>\n",
       "      <td>6649 N Blue GPm St</td>\n",
       "      <td>New Orleans</td>\n",
       "      <td>Orleans</td>\n",
       "      <td>LA</td>\n",
       "      <td>70116</td>\n",
       "      <td>504-621-8927</td>\n",
       "      <td>504-845-1427</td>\n",
       "      <td>jbutt@gmail.com</td>\n",
       "      <td>http://www.bentonjohnbjr.com</td>\n",
       "      <td>False</td>\n",
       "    </tr>\n",
       "    <tr>\n",
       "      <th>3</th>\n",
       "      <td>Jmes</td>\n",
       "      <td>Blutt</td>\n",
       "      <td>BentAnR John B Jr</td>\n",
       "      <td>6649 N BlueNGum St</td>\n",
       "      <td>New Orleans</td>\n",
       "      <td>Orleans</td>\n",
       "      <td>LA</td>\n",
       "      <td>70116</td>\n",
       "      <td>504-621-8927</td>\n",
       "      <td>504-845-1427</td>\n",
       "      <td>jbutt@gmail.com</td>\n",
       "      <td>http://www.bentonjohnbjr.com</td>\n",
       "      <td>False</td>\n",
       "    </tr>\n",
       "    <tr>\n",
       "      <th>4</th>\n",
       "      <td>Josephine</td>\n",
       "      <td>Darakjy</td>\n",
       "      <td>Chanay, Jeffrey A Esq</td>\n",
       "      <td>4 B Blue Ridge Blvd</td>\n",
       "      <td>Brighton</td>\n",
       "      <td>Livingston</td>\n",
       "      <td>MI</td>\n",
       "      <td>48116</td>\n",
       "      <td>810-292-9388</td>\n",
       "      <td>810-374-9840</td>\n",
       "      <td>josephine_darakjy@darakjy.org</td>\n",
       "      <td>http://www.chanayjeffreyaesq.com</td>\n",
       "      <td>True</td>\n",
       "    </tr>\n",
       "  </tbody>\n",
       "</table>\n",
       "</div>"
      ],
      "text/plain": [
       "          0        1                      2                    3   \\\n",
       "0      James     Butt      Benton, John B Jr   6649 N Blue Gum St   \n",
       "1       Jams    Buttj     BentonI, JohnZB Jr   6649 N Blue GPm St   \n",
       "2       Jams    Buttq     Bentxon, Jocn B Jr   6649 N Blue GPm St   \n",
       "3       Jmes    Blutt      BentAnR John B Jr   6649 N BlueNGum St   \n",
       "4  Josephine  Darakjy  Chanay, Jeffrey A Esq  4 B Blue Ridge Blvd   \n",
       "\n",
       "            4           5   6      7             8             9   \\\n",
       "0  New Orleans     Orleans  LA  70116  504-621-8927  504-845-1427   \n",
       "1  New Orleans     Orleans  LA  70116  504-621-8927  504-845-1427   \n",
       "2  New Orleans     Orleans  LA  70116  504-621-8927  504-845-1427   \n",
       "3  New Orleans     Orleans  LA  70116  504-621-8927  504-845-1427   \n",
       "4     Brighton  Livingston  MI  48116  810-292-9388  810-374-9840   \n",
       "\n",
       "                              10                                11     12  \n",
       "0                jbutt@gmail.com      http://www.bentonjohnbjr.com   True  \n",
       "1                jbutt@gmail.com      http://www.bentonjohnbjr.com  False  \n",
       "2                jbutt@gmail.com      http://www.bentonjohnbjr.com  False  \n",
       "3                jbutt@gmail.com      http://www.bentonjohnbjr.com  False  \n",
       "4  josephine_darakjy@darakjy.org  http://www.chanayjeffreyaesq.com   True  "
      ]
     },
     "execution_count": 26,
     "metadata": {},
     "output_type": "execute_result"
    }
   ],
   "source": [
    "df.head(n=5)"
   ]
  },
  {
   "cell_type": "code",
   "execution_count": 27,
   "metadata": {},
   "outputs": [
    {
     "name": "stdout",
     "output_type": "stream",
     "text": [
      "Max lenght name:  13\n",
      "Max lenght lastname:  15\n",
      "Max lenght address:  35\n"
     ]
    }
   ],
   "source": [
    "names= df[0]\n",
    "last = df[1]\n",
    "add  = df[3]\n",
    "zipp = df[7]\n",
    "sts = df[6]\n",
    "print (\"Max lenght name: \",np.array([len(i) for i in names]).max())\n",
    "print (\"Max lenght lastname: \",np.array([len(i) for i in last]).max())\n",
    "print (\"Max lenght address: \",np.array([len(i) for i in add]).max())"
   ]
  },
  {
   "cell_type": "code",
   "execution_count": 28,
   "metadata": {},
   "outputs": [
    {
     "name": "stdout",
     "output_type": "stream",
     "text": [
      "Number zip codes: 2111\n"
     ]
    }
   ],
   "source": [
    "zipcodes=list(set(zipp))\n",
    "print(\"Number zip codes:\", len(zipcodes))\n"
   ]
  },
  {
   "cell_type": "code",
   "execution_count": 29,
   "metadata": {},
   "outputs": [],
   "source": [
    "names_matrix=np.zeros((len(df),30)) \n",
    "last_matrix=np.zeros((len(df),30))\n",
    "add_matrix=np.zeros((len(df),64))\n"
   ]
  },
  {
   "cell_type": "code",
   "execution_count": 30,
   "metadata": {},
   "outputs": [
    {
     "name": "stdout",
     "output_type": "stream",
     "text": [
      "18\n",
      "[ 54  54  52  57  32  78  32  66 108 117 101  32  71 117 109  32  83 116]\n"
     ]
    }
   ],
   "source": [
    "x='6649 N Blue Gum St'\n",
    "print(len(x))\n",
    "print(np.array([ord(c) for c in x]))"
   ]
  },
  {
   "cell_type": "code",
   "execution_count": 31,
   "metadata": {},
   "outputs": [
    {
     "name": "stdout",
     "output_type": "stream",
     "text": [
      "4\n",
      "[ 74 111 104 110]\n"
     ]
    }
   ],
   "source": [
    "x='John'\n",
    "print(len(x))\n",
    "print(np.array([ord(c) for c in x]))"
   ]
  },
  {
   "cell_type": "code",
   "execution_count": 32,
   "metadata": {},
   "outputs": [],
   "source": [
    "name_array=[[ord(c) for c in i] for i in names]\n",
    "last_array=[[ord(c) for c in i] for i in last]\n",
    "add_array=[[ord(c) for c in i] for i in add]"
   ]
  },
  {
   "cell_type": "code",
   "execution_count": 33,
   "metadata": {},
   "outputs": [],
   "source": [
    "def fill_matrix(matrix,ls,samples):\n",
    "    for i in range(samples):\n",
    "        for j in range (len(ls[i])):\n",
    "            matrix[i][j]=ls[i][j]\n",
    "    return matrix"
   ]
  },
  {
   "cell_type": "code",
   "execution_count": 34,
   "metadata": {},
   "outputs": [],
   "source": [
    "names_matrix = fill_matrix(names_matrix,name_array,len(df))\n",
    "last_matrix = fill_matrix(last_matrix,last_array,len(df))\n",
    "add_matrix = fill_matrix(add_matrix,add_array,len(df))"
   ]
  },
  {
   "cell_type": "code",
   "execution_count": 35,
   "metadata": {},
   "outputs": [],
   "source": [
    "states_array = np.array([states.index(i) for i in sts ]).reshape(-1,1)\n",
    "zip_array = np.array([zipcodes.index(i) for i in zipp ]).reshape(-1,1)"
   ]
  },
  {
   "cell_type": "code",
   "execution_count": 36,
   "metadata": {},
   "outputs": [],
   "source": [
    "X_train = np.concatenate((names_matrix, last_matrix,add_matrix,states_array,zip_array), axis=1)\n"
   ]
  },
  {
   "cell_type": "code",
   "execution_count": 37,
   "metadata": {},
   "outputs": [
    {
     "data": {
      "text/html": [
       "<div>\n",
       "<style scoped>\n",
       "    .dataframe tbody tr th:only-of-type {\n",
       "        vertical-align: middle;\n",
       "    }\n",
       "\n",
       "    .dataframe tbody tr th {\n",
       "        vertical-align: top;\n",
       "    }\n",
       "\n",
       "    .dataframe thead th {\n",
       "        text-align: right;\n",
       "    }\n",
       "</style>\n",
       "<table border=\"1\" class=\"dataframe\">\n",
       "  <thead>\n",
       "    <tr style=\"text-align: right;\">\n",
       "      <th></th>\n",
       "      <th>0</th>\n",
       "      <th>1</th>\n",
       "      <th>2</th>\n",
       "      <th>3</th>\n",
       "      <th>4</th>\n",
       "      <th>5</th>\n",
       "      <th>6</th>\n",
       "      <th>7</th>\n",
       "      <th>8</th>\n",
       "      <th>9</th>\n",
       "      <th>...</th>\n",
       "      <th>116</th>\n",
       "      <th>117</th>\n",
       "      <th>118</th>\n",
       "      <th>119</th>\n",
       "      <th>120</th>\n",
       "      <th>121</th>\n",
       "      <th>122</th>\n",
       "      <th>123</th>\n",
       "      <th>124</th>\n",
       "      <th>125</th>\n",
       "    </tr>\n",
       "  </thead>\n",
       "  <tbody>\n",
       "    <tr>\n",
       "      <th>0</th>\n",
       "      <td>74.0</td>\n",
       "      <td>97.0</td>\n",
       "      <td>109.0</td>\n",
       "      <td>101.0</td>\n",
       "      <td>115.0</td>\n",
       "      <td>0.0</td>\n",
       "      <td>0.0</td>\n",
       "      <td>0.0</td>\n",
       "      <td>0.0</td>\n",
       "      <td>0.0</td>\n",
       "      <td>...</td>\n",
       "      <td>0.0</td>\n",
       "      <td>0.0</td>\n",
       "      <td>0.0</td>\n",
       "      <td>0.0</td>\n",
       "      <td>0.0</td>\n",
       "      <td>0.0</td>\n",
       "      <td>0.0</td>\n",
       "      <td>0.0</td>\n",
       "      <td>18.0</td>\n",
       "      <td>1249.0</td>\n",
       "    </tr>\n",
       "    <tr>\n",
       "      <th>1</th>\n",
       "      <td>74.0</td>\n",
       "      <td>97.0</td>\n",
       "      <td>109.0</td>\n",
       "      <td>115.0</td>\n",
       "      <td>0.0</td>\n",
       "      <td>0.0</td>\n",
       "      <td>0.0</td>\n",
       "      <td>0.0</td>\n",
       "      <td>0.0</td>\n",
       "      <td>0.0</td>\n",
       "      <td>...</td>\n",
       "      <td>0.0</td>\n",
       "      <td>0.0</td>\n",
       "      <td>0.0</td>\n",
       "      <td>0.0</td>\n",
       "      <td>0.0</td>\n",
       "      <td>0.0</td>\n",
       "      <td>0.0</td>\n",
       "      <td>0.0</td>\n",
       "      <td>18.0</td>\n",
       "      <td>1249.0</td>\n",
       "    </tr>\n",
       "    <tr>\n",
       "      <th>2</th>\n",
       "      <td>74.0</td>\n",
       "      <td>97.0</td>\n",
       "      <td>109.0</td>\n",
       "      <td>115.0</td>\n",
       "      <td>0.0</td>\n",
       "      <td>0.0</td>\n",
       "      <td>0.0</td>\n",
       "      <td>0.0</td>\n",
       "      <td>0.0</td>\n",
       "      <td>0.0</td>\n",
       "      <td>...</td>\n",
       "      <td>0.0</td>\n",
       "      <td>0.0</td>\n",
       "      <td>0.0</td>\n",
       "      <td>0.0</td>\n",
       "      <td>0.0</td>\n",
       "      <td>0.0</td>\n",
       "      <td>0.0</td>\n",
       "      <td>0.0</td>\n",
       "      <td>18.0</td>\n",
       "      <td>1249.0</td>\n",
       "    </tr>\n",
       "    <tr>\n",
       "      <th>3</th>\n",
       "      <td>74.0</td>\n",
       "      <td>109.0</td>\n",
       "      <td>101.0</td>\n",
       "      <td>115.0</td>\n",
       "      <td>0.0</td>\n",
       "      <td>0.0</td>\n",
       "      <td>0.0</td>\n",
       "      <td>0.0</td>\n",
       "      <td>0.0</td>\n",
       "      <td>0.0</td>\n",
       "      <td>...</td>\n",
       "      <td>0.0</td>\n",
       "      <td>0.0</td>\n",
       "      <td>0.0</td>\n",
       "      <td>0.0</td>\n",
       "      <td>0.0</td>\n",
       "      <td>0.0</td>\n",
       "      <td>0.0</td>\n",
       "      <td>0.0</td>\n",
       "      <td>18.0</td>\n",
       "      <td>1249.0</td>\n",
       "    </tr>\n",
       "    <tr>\n",
       "      <th>4</th>\n",
       "      <td>74.0</td>\n",
       "      <td>111.0</td>\n",
       "      <td>115.0</td>\n",
       "      <td>101.0</td>\n",
       "      <td>112.0</td>\n",
       "      <td>104.0</td>\n",
       "      <td>105.0</td>\n",
       "      <td>110.0</td>\n",
       "      <td>101.0</td>\n",
       "      <td>0.0</td>\n",
       "      <td>...</td>\n",
       "      <td>0.0</td>\n",
       "      <td>0.0</td>\n",
       "      <td>0.0</td>\n",
       "      <td>0.0</td>\n",
       "      <td>0.0</td>\n",
       "      <td>0.0</td>\n",
       "      <td>0.0</td>\n",
       "      <td>0.0</td>\n",
       "      <td>22.0</td>\n",
       "      <td>1844.0</td>\n",
       "    </tr>\n",
       "  </tbody>\n",
       "</table>\n",
       "<p>5 rows × 126 columns</p>\n",
       "</div>"
      ],
      "text/plain": [
       "    0      1      2      3      4      5      6      7      8    9     ...    \\\n",
       "0  74.0   97.0  109.0  101.0  115.0    0.0    0.0    0.0    0.0  0.0   ...     \n",
       "1  74.0   97.0  109.0  115.0    0.0    0.0    0.0    0.0    0.0  0.0   ...     \n",
       "2  74.0   97.0  109.0  115.0    0.0    0.0    0.0    0.0    0.0  0.0   ...     \n",
       "3  74.0  109.0  101.0  115.0    0.0    0.0    0.0    0.0    0.0  0.0   ...     \n",
       "4  74.0  111.0  115.0  101.0  112.0  104.0  105.0  110.0  101.0  0.0   ...     \n",
       "\n",
       "   116  117  118  119  120  121  122  123   124     125  \n",
       "0  0.0  0.0  0.0  0.0  0.0  0.0  0.0  0.0  18.0  1249.0  \n",
       "1  0.0  0.0  0.0  0.0  0.0  0.0  0.0  0.0  18.0  1249.0  \n",
       "2  0.0  0.0  0.0  0.0  0.0  0.0  0.0  0.0  18.0  1249.0  \n",
       "3  0.0  0.0  0.0  0.0  0.0  0.0  0.0  0.0  18.0  1249.0  \n",
       "4  0.0  0.0  0.0  0.0  0.0  0.0  0.0  0.0  22.0  1844.0  \n",
       "\n",
       "[5 rows x 126 columns]"
      ]
     },
     "execution_count": 37,
     "metadata": {},
     "output_type": "execute_result"
    }
   ],
   "source": [
    "df_features = pd.DataFrame(X_train)\n",
    "df_features.head()"
   ]
  },
  {
   "cell_type": "code",
   "execution_count": 38,
   "metadata": {},
   "outputs": [
    {
     "data": {
      "text/plain": [
       "(20000, 126)"
      ]
     },
     "execution_count": 38,
     "metadata": {},
     "output_type": "execute_result"
    }
   ],
   "source": [
    "df_features.shape"
   ]
  },
  {
   "cell_type": "code",
   "execution_count": 39,
   "metadata": {},
   "outputs": [],
   "source": [
    "def predict_item(item,model):\n",
    "    name=[ord(c) for c in item[0]]\n",
    "    last = [ord(c) for c in item[1]]\n",
    "    add = [ord(c) for c in item[2]]\n",
    "    \n",
    "    names_matrix=np.zeros((1,30))\n",
    "    last_matrix=np.zeros((1,30))\n",
    "    add_matrix=np.zeros((1,64))\n",
    "    \n",
    "    names_matrix = fill_matrix(names_matrix,name_array,1)\n",
    "    last_matrix = fill_matrix(last_matrix,last_array,1)\n",
    "    add_matrix = fill_matrix(add_matrix,add_array,1)\n",
    "    \n",
    "    \n",
    "    states_array = np.array([states.index(item[3])]).reshape(-1,1)\n",
    "    zip_array = np.array([zipcodes.index(item[4])]).reshape(-1,1)\n",
    "    \n",
    "    test = np.concatenate((names_matrix, last_matrix,add_matrix,states_array,zip_array), axis=1)\n",
    "    y_pred=model.predict(test)\n",
    "    if y_pred==1:\n",
    "        print(\"Denied! {0} {1} is on the black-list\".format(item[0],item[1]))\n",
    "    else:\n",
    "        print(\"Good News! {0} {1} is on the white-list\".format(item[0],item[1]))\n",
    "    return(y_pred)"
   ]
  },
  {
   "cell_type": "markdown",
   "metadata": {},
   "source": [
    "### OneClass SVM Model RBF Kernel"
   ]
  },
  {
   "cell_type": "code",
   "execution_count": 40,
   "metadata": {},
   "outputs": [],
   "source": [
    "\n",
    "rbf = svm.OneClassSVM(nu=0.1, kernel=\"rbf\", gamma=0.1)"
   ]
  },
  {
   "cell_type": "code",
   "execution_count": 41,
   "metadata": {},
   "outputs": [
    {
     "data": {
      "text/plain": [
       "OneClassSVM(cache_size=200, coef0=0.0, degree=3, gamma=0.1, kernel='rbf',\n",
       "      max_iter=-1, nu=0.1, random_state=None, shrinking=True, tol=0.001,\n",
       "      verbose=False)"
      ]
     },
     "execution_count": 41,
     "metadata": {},
     "output_type": "execute_result"
    }
   ],
   "source": [
    "rbf"
   ]
  },
  {
   "cell_type": "code",
   "execution_count": 42,
   "metadata": {},
   "outputs": [],
   "source": [
    "filename = 'one_svm_rbf.sav'\n",
    "if os.path.exists(filename):\n",
    "    rbf = joblib.load(filename)\n",
    "else:\n",
    "    \n",
    "    rbf.fit(X_train)\n",
    "    joblib.dump(rbf, filename)"
   ]
  },
  {
   "cell_type": "code",
   "execution_count": 43,
   "metadata": {},
   "outputs": [
    {
     "name": "stdout",
     "output_type": "stream",
     "text": [
      "Denied! Jams Butdt is on the black-list\n"
     ]
    }
   ],
   "source": [
    "sample= [\"Jams\",\"Butdt\",\"6649 N Blsue Gum St\", \"LA\", 70116]\n",
    "ypred=predict_item(sample,rbf)"
   ]
  },
  {
   "cell_type": "code",
   "execution_count": null,
   "metadata": {},
   "outputs": [],
   "source": [
    "sample= [\"Wayner\",\"Barrios\",\"5000 Forbes ave\", \"PA\", 12343]\n",
    "ypred=predict_item(sample,rbf)"
   ]
  },
  {
   "cell_type": "code",
   "execution_count": 45,
   "metadata": {},
   "outputs": [
    {
     "name": "stdout",
     "output_type": "stream",
     "text": [
      "Good News! Seymour Okelley is on the white-list\n"
     ]
    }
   ],
   "source": [
    "sample= [\"Seymour\",\"Okelley\",\"33430 Hylan Blvd\",\"CA\",95404]\n",
    "ypred=predict_item(sample,rbf)"
   ]
  },
  {
   "cell_type": "code",
   "execution_count": 46,
   "metadata": {},
   "outputs": [],
   "source": [
    "y_pred_train = rbf.predict(X_train)"
   ]
  },
  {
   "cell_type": "code",
   "execution_count": 147,
   "metadata": {},
   "outputs": [
    {
     "name": "stdout",
     "output_type": "stream",
     "text": [
      "Training error (%): 55.435\n"
     ]
    }
   ],
   "source": [
    "n_error_train = y_pred_train[y_pred_train == -1].size\n",
    "print(\"Training error (%):\" ,(n_error_train/len(df))*100)"
   ]
  },
  {
   "cell_type": "markdown",
   "metadata": {},
   "source": [
    "### OneClass SVM Model linear Kernel"
   ]
  },
  {
   "cell_type": "code",
   "execution_count": 220,
   "metadata": {},
   "outputs": [],
   "source": [
    "linear = svm.OneClassSVM(nu=0.01, kernel=\"linear\", gamma=0.1)"
   ]
  },
  {
   "cell_type": "code",
   "execution_count": 221,
   "metadata": {},
   "outputs": [
    {
     "data": {
      "text/plain": [
       "OneClassSVM(cache_size=200, coef0=0.0, degree=3, gamma=0.1, kernel='linear',\n",
       "      max_iter=-1, nu=0.01, random_state=None, shrinking=True, tol=0.001,\n",
       "      verbose=False)"
      ]
     },
     "execution_count": 221,
     "metadata": {},
     "output_type": "execute_result"
    }
   ],
   "source": [
    "linear"
   ]
  },
  {
   "cell_type": "code",
   "execution_count": 16,
   "metadata": {},
   "outputs": [],
   "source": [
    "filename = 'one_svm_linear.sav'\n",
    "if os.path.exists(filename):\n",
    "    linear = joblib.load(filename)\n",
    "else: \n",
    "    linear.fit(X_train)\n",
    "    joblib.dump(linear, filename)"
   ]
  },
  {
   "cell_type": "code",
   "execution_count": 28,
   "metadata": {},
   "outputs": [
    {
     "name": "stdout",
     "output_type": "stream",
     "text": [
      "Denied! Jaaams Butttt is on the black-list\n"
     ]
    }
   ],
   "source": [
    "sample= [\"Jaaams\",\"Butttt\",\"6649 N Bsdhe Gum St\", \"LA\",70116]\n",
    "ypred=predict_item(sample,linear)"
   ]
  },
  {
   "cell_type": "code",
   "execution_count": 17,
   "metadata": {},
   "outputs": [
    {
     "name": "stdout",
     "output_type": "stream",
     "text": [
      "Denied! ames Buttsdt is on the black-list\n"
     ]
    }
   ],
   "source": [
    "sample= [\"ames\",\"Buttsdt\",\"6649 N Blueuae Gum St\", \"LA\",70116]\n",
    "ypred=predict_item(sample,linear)"
   ]
  },
  {
   "cell_type": "code",
   "execution_count": 226,
   "metadata": {},
   "outputs": [
    {
     "name": "stdout",
     "output_type": "stream",
     "text": [
      "Good News! Jorge Quiroga-Sanchez is on the white-list\n"
     ]
    }
   ],
   "source": [
    "sample= [\"Jorge\",\"Quiroga-Sanchez\",\"2395 NW 81st Terrace\", \"FL\", 33147]\n",
    "ypred=predict_item(sample,linear)"
   ]
  },
  {
   "cell_type": "code",
   "execution_count": 227,
   "metadata": {},
   "outputs": [
    {
     "name": "stdout",
     "output_type": "stream",
     "text": [
      "Good News! Joe Quiroga is on the white-list\n"
     ]
    }
   ],
   "source": [
    "sample= [\"Joe\",\"Quiroga\",\"2395 NW 81st Terrace\", \"FL\", 33147]\n",
    "ypred=predict_item(sample,linear)"
   ]
  },
  {
   "cell_type": "code",
   "execution_count": 228,
   "metadata": {},
   "outputs": [
    {
     "name": "stdout",
     "output_type": "stream",
     "text": [
      "Good News! Shakira Mebarak is on the white-list\n"
     ]
    }
   ],
   "source": [
    "sample= [\"Shakira\",\"Mebarak\",\"530 Krueger St\", \"LA\", 90232]\n",
    "ypred=predict_item(sample,linear)\n",
    "\n"
   ]
  },
  {
   "cell_type": "code",
   "execution_count": 229,
   "metadata": {},
   "outputs": [
    {
     "name": "stdout",
     "output_type": "stream",
     "text": [
      "Denied! Seymour Okelley is on the black-list\n"
     ]
    }
   ],
   "source": [
    "sample= [\"Seymour\",\"Okelley\",\"33430 Hylan Blvd\",\"CA\",95404]\n",
    "ypred=predict_item(sample,linear)"
   ]
  },
  {
   "cell_type": "code",
   "execution_count": 230,
   "metadata": {},
   "outputs": [
    {
     "name": "stdout",
     "output_type": "stream",
     "text": [
      "Denied! Seyssmour Okelddley is on the black-list\n"
     ]
    }
   ],
   "source": [
    "sample= [\"Seyssmour\",\"Okelddley\",\"33430 Hylan Blvd\",\"LA\",95404]\n",
    "ypred=predict_item(sample,linear)"
   ]
  },
  {
   "cell_type": "code",
   "execution_count": 231,
   "metadata": {},
   "outputs": [
    {
     "name": "stdout",
     "output_type": "stream",
     "text": [
      "Denied! Seyssur Okellesdsy is on the black-list\n"
     ]
    }
   ],
   "source": [
    "sample= [\"Seyssur\",\"Okellesdsy\",\"33430 Hylan Blvd\",\"WA\",95404]\n",
    "ypred=predict_item(sample,linear)"
   ]
  },
  {
   "cell_type": "code",
   "execution_count": 29,
   "metadata": {},
   "outputs": [
    {
     "name": "stdout",
     "output_type": "stream",
     "text": [
      "Denied! Yolanda Svay is on the black-list\n"
     ]
    }
   ],
   "source": [
    "sample= [\"Yolanda\",\"Svay\",\"80 School St\",\"AZ\",85257]\n",
    "ypred=predict_item(sample,linear)\n"
   ]
  },
  {
   "cell_type": "code",
   "execution_count": 31,
   "metadata": {},
   "outputs": [
    {
     "name": "stdout",
     "output_type": "stream",
     "text": [
      "Denied! Wayner Barrios is on the black-list\n"
     ]
    }
   ],
   "source": [
    "sample= [\"Wayner\",\"Barrios\",\"80 School St\",\"AZ\",85257]\n",
    "ypred=predict_item(sample,linear)\n"
   ]
  },
  {
   "cell_type": "code",
   "execution_count": 34,
   "metadata": {},
   "outputs": [],
   "source": [
    "y_pred_train = linear.predict(X_train)"
   ]
  },
  {
   "cell_type": "code",
   "execution_count": 235,
   "metadata": {},
   "outputs": [
    {
     "name": "stdout",
     "output_type": "stream",
     "text": [
      "Training error (%): 10.005\n"
     ]
    }
   ],
   "source": [
    "n_error_train = y_pred_train[y_pred_train == -1].size\n",
    "print(\"Training error (%):\" ,(n_error_train/len(df))*100)"
   ]
  },
  {
   "cell_type": "code",
   "execution_count": 35,
   "metadata": {},
   "outputs": [
    {
     "data": {
      "text/plain": [
       "2001"
      ]
     },
     "execution_count": 35,
     "metadata": {},
     "output_type": "execute_result"
    }
   ],
   "source": [
    "y_pred_train[y_pred_train == -1].size"
   ]
  }
 ],
 "metadata": {
  "kernelspec": {
   "display_name": "Python 3",
   "language": "python",
   "name": "python3"
  },
  "language_info": {
   "codemirror_mode": {
    "name": "ipython",
    "version": 3
   },
   "file_extension": ".py",
   "mimetype": "text/x-python",
   "name": "python",
   "nbconvert_exporter": "python",
   "pygments_lexer": "ipython3",
   "version": "3.7.1"
  }
 },
 "nbformat": 4,
 "nbformat_minor": 2
}
